{
 "cells": [
  {
   "cell_type": "code",
   "execution_count": 5,
   "metadata": {},
   "outputs": [
    {
     "name": "stdout",
     "output_type": "stream",
     "text": [
      "['quantum', 'mechanics', 'is', 'a', 'fundamental', 'theory', 'that', 'describes', 'the', 'behavior', 'of', 'nature', 'at', 'and', 'below', 'the', 'scale', 'of', 'atoms']\n",
      "['f', 'r', 'o', 'm', 'w', 'i', 'k', 'i', 'p', 'e', 'd', 'i', 'a', 't', 'h', 'e', 'f', 'r', 'e', 'e', 'e', 'n', 'c', 'y', 'c', 'l', 'o', 'p', 'e', 'd', 'i', 'a']\n"
     ]
    }
   ],
   "source": [
    "from src.utils import tokenize_words, tokenize_chars\n",
    "\n",
    "text_1 = 'Quantum mechanics is a fundamental theory that describes the behavior of nature at and below the scale of atoms.'\n",
    "text_2 = 'From Wikipedia, the free encyclopedia'\n",
    "print(tokenize_words(text_1))\n",
    "print(tokenize_chars(text_2))"
   ]
  }
 ],
 "metadata": {
  "kernelspec": {
   "display_name": "Python 3",
   "language": "python",
   "name": "python3"
  },
  "language_info": {
   "codemirror_mode": {
    "name": "ipython",
    "version": 3
   },
   "file_extension": ".py",
   "mimetype": "text/x-python",
   "name": "python",
   "nbconvert_exporter": "python",
   "pygments_lexer": "ipython3",
   "version": "3.11.8"
  }
 },
 "nbformat": 4,
 "nbformat_minor": 2
}
